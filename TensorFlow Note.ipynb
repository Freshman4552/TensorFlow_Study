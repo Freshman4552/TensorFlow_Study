{
 "cells": [
  {
   "cell_type": "code",
   "execution_count": 5,
   "metadata": {
    "scrolled": true
   },
   "outputs": [],
   "source": [
    "import tensorflow as tf\n",
    "import numpy as np"
   ]
  },
  {
   "cell_type": "code",
   "execution_count": 19,
   "metadata": {},
   "outputs": [
    {
     "name": "stdout",
     "output_type": "stream",
     "text": [
      "Tensor(\"Const_30:0\", shape=(2,), dtype=int64) <dtype: 'int64'> (2,)\n",
      "Tensor(\"Const_31:0\", shape=(), dtype=int32)\n",
      "[0 1 2 3 4] Tensor(\"Const_32:0\", shape=(5,), dtype=int64)\n",
      "Tensor(\"zeros_11:0\", shape=(2, 3), dtype=float32) Tensor(\"ones_13:0\", shape=(4,), dtype=float32) Tensor(\"Fill_11:0\", shape=(2, 2), dtype=int32)\n",
      "Tensor(\"random_normal:0\", shape=(2, 2), dtype=float32) Tensor(\"truncated_normal:0\", shape=(2, 2), dtype=float32)\n"
     ]
    }
   ],
   "source": [
    "#Initialization of Tensors\n",
    "\"\"\"tf.constant(Matrix,dtype= ) create a Tensor\"\"\"\n",
    "x = tf.constant([1,5],dtype=tf.int64)\n",
    "y = tf.constant(4) #Its shape is (), just a value no dimension => 4\n",
    "\n",
    "\n",
    "\"\"\"tf.convert_to_tensor(data_name=,dtype=) transforn a numpy data to Tensor data\"\"\"\n",
    "a = np.arange(0,5)\n",
    "b = tf.convert_to_tensor(a, dtype=tf.int64)\n",
    "\"\"\"\n",
    "tf.zeros(n) create a tensor with all zeros of n dimensions\n",
    "tf.ones(n) create a tensor with all ones of n dimensions\n",
    "tf.fill(n,target_value=) create a tensor, all elements' values equal 'target' with n dimension\n",
    "tf.eye(n) create a Identity Matrix\n",
    "\"\"\"\n",
    "c = tf.zeros([2,3])\n",
    "d = tf.ones(4) #Its shape is (4,), one dimension => [4] compared with tf.constant(4)\n",
    "e = tf.fill([2,2],5)\n",
    "\n",
    "\"\"\"\n",
    "tf.random.normal(n ,mean=,stddev=) create a random tensor with defined mean and standard deviation\n",
    "tf.random.truncated_normal(n ,mean=,stddev=) create a random tensor whose value is within the range(mean-2*std,mean+2*std)\n",
    "\n",
    "\"\"\"\n",
    "f = tf.random.normal([2,2],mean = 0.5, stddev = 1)\n",
    "g = tf.random.truncated_normal([2,2], mean = 0.5, stddev = 1)\n"
   ]
  },
  {
   "cell_type": "code",
   "execution_count": 34,
   "metadata": {
    "scrolled": true
   },
   "outputs": [
    {
     "name": "stdout",
     "output_type": "stream",
     "text": [
      "1\n"
     ]
    },
    {
     "data": {
      "text/plain": [
       "'\\ntf.square(tensor) 平方\\ntf.pow(tensor,n) 次方\\ntf.sqrt(tensor) 开方\\ntf.matmul(Tensor_1,Tensor_2) 矩阵叉乘\\n'"
      ]
     },
     "execution_count": 34,
     "metadata": {},
     "output_type": "execute_result"
    }
   ],
   "source": [
    "#Usually used functions\n",
    "\"\"\"\n",
    "tf.cast(name, dtype=) transform a Tensor to defined data-type\n",
    "tf.reduce_min(name) calculate the minimal value of a Tensor\n",
    "tf.reduce_max(name) calculate the maximal value of a Tensor\n",
    "tf.reduce_mean(name,axis=) calculate the mean for 2-dimensional Tensor, axis = 0 horizonal横向, axis = 1 lengthways纵向\n",
    "tf.reduce_sum(name,axis=) calculate the sum for 2-dimensional Tensor, axis = 0 horizonal横向, axis = 1 lengthways纵向\n",
    "\"\"\"\n",
    "x = tf.constant([[2,3],[4,5]],dtype=tf.int32)\n",
    "x_1 = tf.reduce_min(x) # output:2\n",
    "x_2 = tf.reduce_max(x) # output:5\n",
    "\n",
    "\"\"\"\n",
    "tf.data.Dataset.from_tensor_slices((features,labels)) pair the features with labels\n",
    "\"\"\"\n",
    "features = tf.constant([12,23,10,7])\n",
    "labels = tf.constant([0,1,1,0])\n",
    "dataset = tf.data.Dataset.from_tensor_slices((features,labels))\n",
    "\n",
    "\"\"\"\n",
    "tf.GradientTape() calculate the gradient of a Tensor\n",
    "\"\"\"\n",
    "\n",
    "\"\"\"\n",
    "tf.one_hot(data,depth=classes) one-hot encoding\n",
    "\"\"\"\n",
    "\n",
    "#Initialize a Variable\n",
    "\"\"\"\n",
    "tf.Variable(Tensor) Mark a Tensor as Trainable Variable\n",
    "\"\"\"\n",
    "\n",
    "#Mathematical calculation\n",
    "\"\"\"\n",
    "tf.add(Tensor1,Tensor2)\n",
    "tf.subtract(Tensor1,Tensor2)\n",
    "tf.multiliy(Tensor1,Tensor2)\n",
    "tf.divide(Tensor1,Tensor2)\n",
    "Only Tensors with same dimensions can do calculations above\n",
    "\"\"\"\n",
    "\"\"\"\n",
    "tf.square(tensor) 平方\n",
    "tf.pow(tensor,n) 次方\n",
    "tf.sqrt(tensor) 开方\n",
    "tf.matmul(Tensor_1,Tensor_2) 矩阵叉乘\n",
    "\"\"\""
   ]
  },
  {
   "cell_type": "code",
   "execution_count": null,
   "metadata": {},
   "outputs": [],
   "source": []
  }
 ],
 "metadata": {
  "kernelspec": {
   "display_name": "Python 3",
   "language": "python",
   "name": "python3"
  },
  "language_info": {
   "codemirror_mode": {
    "name": "ipython",
    "version": 3
   },
   "file_extension": ".py",
   "mimetype": "text/x-python",
   "name": "python",
   "nbconvert_exporter": "python",
   "pygments_lexer": "ipython3",
   "version": "3.7.4"
  }
 },
 "nbformat": 4,
 "nbformat_minor": 2
}
